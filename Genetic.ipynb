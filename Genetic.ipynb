{
 "cells": [
  {
   "cell_type": "markdown",
   "metadata": {},
   "source": [
    "<h1 style=\"text-align: center;\">Pengantar Kecerdasan Buatan | Genetic Algorithm <h1>"
   ]
  },
  {
   "cell_type": "markdown",
   "metadata": {},
   "source": [
    "<img src=\"./flwo-drawio.png\" alt=\"drawing\" style=\"width:500px; content-align: center;\"/>\n"
   ]
  },
  {
   "cell_type": "markdown",
   "metadata": {},
   "source": [
    "<h3>1. Tahap Persiapan <h3> "
   ]
  },
  {
   "cell_type": "markdown",
   "metadata": {},
   "source": [
    "Dimulai dengan menginisiasi beberapa besaran awal seperti, jumlah populasi (j_popul), angka mutasi (M_rate), target string yang diinginkan (target), dan gene (penyusun yang dimungkinkan).\n",
    "Membuat fungsi populasi dengan chromosom yang berjumlah sesuai target.\n",
    "\n",
    "<img src=\"./1_BYDJpa6M2rzWNSurvspf8Q.png\" alt=\"drawing\" style=\"width:400px;\"/>"
   ]
  },
  {
   "cell_type": "code",
   "execution_count": 64,
   "metadata": {},
   "outputs": [],
   "source": [
    "import random\n",
    "import numpy as np\n",
    "\n",
    "j_popul = 500\n",
    "M_rate = 0.2\n",
    "target = 'Fisika Unpad 2021'\n",
    "gene = 'abcdefghijklmnopqrstuvwxyzABCDEFGHIJKLMNOPQRSTUVWXYZ 1234567890, .-;:_!\"#%&/()=?@${[]}'\n",
    "\n",
    "def popul(target,j_popul):\n",
    "    populasi = []\n",
    "\n",
    "    for i in range(j_popul):\n",
    "        ortu = []\n",
    "        for j in range(len(target)):\n",
    "            ortu.append(random.choice(gene))\n",
    "        populasi.append(ortu)\n",
    "\n",
    "    return populasi"
   ]
  },
  {
   "cell_type": "markdown",
   "metadata": {},
   "source": [
    "<h3>1. Membentuk fitur seleksi<h3>"
   ]
  },
  {
   "cell_type": "markdown",
   "metadata": {},
   "source": [
    "Fitur seleksi dibuat dengan mengurutkan masing-masing genes tiap list"
   ]
  },
  {
   "cell_type": "code",
   "execution_count": 65,
   "metadata": {},
   "outputs": [],
   "source": [
    "def selection(populasi, target,j_popul):\n",
    "    choromo_sorted= sorted(populasi, key= lambda x: x[1])\n",
    "    return choromo_sorted[:int(0.5*j_popul)]"
   ]
  },
  {
   "cell_type": "markdown",
   "metadata": {},
   "source": [
    "<h3>2. Fungsi Crossover <h3>"
   ]
  },
  {
   "cell_type": "markdown",
   "metadata": {},
   "source": [
    "Dengan melakukan crossover dari 2 parents, maka dilakukan perulangan sebanyak populasi untuk menentukan orang tua pertama, sedangkan pengkondisian crossover akan dilakukan oleh crossover point.<br>\n",
    "<img src=\"./1520175937251.jpeg\" alt=\"drawing\" style=\"width:400px;\"/>\n"
   ]
  },
  {
   "cell_type": "code",
   "execution_count": 66,
   "metadata": {},
   "outputs": [],
   "source": [
    "\n",
    "def crossover(chromo, target_len, populasi):\n",
    "    offspring_cross = []\n",
    "    for _ in range(len(populasi)):\n",
    "        ortu1 = random.choice(chromo)[0]\n",
    "        ortu2 = random.choice(populasi[:int(len(populasi)*0.5)])[0]\n",
    "\n",
    "        crossover_point = random.randint(1, target_len-1)\n",
    "        off = ortu1[:crossover_point] + ortu2[crossover_point:]\n",
    "        offspring_cross.append(off)\n",
    "    return offspring_cross\n"
   ]
  },
  {
   "cell_type": "markdown",
   "metadata": {},
   "source": [
    "<h3>3. Fungsi Fitness <h3>"
   ]
  },
  {
   "cell_type": "markdown",
   "metadata": {},
   "source": [
    "Secara sederhana fungsi fitness dihitung dengan cara mencocokkan tiap array hasil choromos generasi ke-sekian dengan target yang telah dibuat. Apabila tiap array tidak sama maka fitness bertambah 1. Adapun target yang diinginkan adalah fitness==0"
   ]
  },
  {
   "cell_type": "code",
   "execution_count": 67,
   "metadata": {},
   "outputs": [],
   "source": [
    "def fitness_cal(target, chromo):\n",
    "    difference = 0\n",
    "    min_length = min(len(target), len(chromo))\n",
    "    # Menghitung perbedaan karakter antara TARGET dan chromo_from_pop\n",
    "    for i in range(min_length):\n",
    "        if target[i] != chromo[i]:\n",
    "            difference += 1\n",
    "    return [chromo, difference]\n"
   ]
  },
  {
   "cell_type": "code",
   "execution_count": 68,
   "metadata": {},
   "outputs": [],
   "source": [
    "def replace(new_gen, populasi):\n",
    "    for i in range(len(populasi)):\n",
    "        if new_gen[i][1] < populasi[i][1]: \n",
    "            populasi[i] = new_gen[i]  \n",
    "    return populasi"
   ]
  },
  {
   "cell_type": "markdown",
   "metadata": {},
   "source": [
    "<h3>4. Fungsi Mutasi<h3>"
   ]
  },
  {
   "cell_type": "markdown",
   "metadata": {},
   "source": [
    "Pada pemrograman kali ini, jenis mutasi yang digunakan adalah roulette wheel spin yaitu memilih acak kembali dari kumpulan genes yang diberikan untuk membentuk generasi baru"
   ]
  },
  {
   "cell_type": "code",
   "execution_count": 69,
   "metadata": {},
   "outputs": [],
   "source": [
    "def mutate(offspring, MUT_RATE):\n",
    "    mutated_offspring = []\n",
    "    for arr in offspring:\n",
    "        for i in range(len(arr)):\n",
    "            if random.random() < MUT_RATE:\n",
    "                arr[i] = random.choice(gene)\n",
    "        mutated_offspring.append(arr)\n",
    "    return mutated_offspring"
   ]
  },
  {
   "cell_type": "markdown",
   "metadata": {},
   "source": [
    "<h3>5. Program Utama<h3>"
   ]
  },
  {
   "cell_type": "markdown",
   "metadata": {},
   "source": [
    "Langkah pertama adalah membuat inisiasi terhadap besaran yang diperlukan. Kemudian membentuk populasi. Terdapat perulangan dengan kondisi tertentu (while), program kali menggunakan kondisi fit!=0 artinya ketikan fit tidak bernilai 0 akan dilakukan program di bawahnya. Hal ini bertujuan untuk mengulang program agar mencapai fit==0.<br>\n",
    "Adapun langkah yang dilakukan adalah mensortir, melakukan crossover dan mengganti parent lama dengan parent yang termutasi."
   ]
  },
  {
   "cell_type": "code",
   "execution_count": 70,
   "metadata": {},
   "outputs": [
    {
     "name": "stdout",
     "output_type": "stream",
     "text": [
      "String:  F@6jVF!IUpGT:fD2z  Generasi ke-  2  Fitness: 14\n",
      "String:  F@6jVF!IUpGT:fD2z  Generasi ke-  3  Fitness: 14\n",
      "String:  jJ78Ig U[paDOe1@0  Generasi ke-  4  Fitness: 13\n",
      "String:  Ov;0GpqU[pam 2M[S  Generasi ke-  5  Fitness: 12\n",
      "String:  Ov;0GpqU[pam 2M[S  Generasi ke-  6  Fitness: 12\n",
      "String:  FiShXa TuWQdb{L2q  Generasi ke-  7  Fitness: 11\n",
      "String:  FiShXa TuWQdb{L2q  Generasi ke-  8  Fitness: 11\n",
      "String:  FDsBf/#Ui a7 20a4  Generasi ke-  9  Fitness: 10\n",
      "String:  FisAka T3W d Tc2q  Generasi ke-  10  Fitness: 8\n",
      "String:  FisAka T3W d Tc2q  Generasi ke-  11  Fitness: 8\n",
      "String:  FisAka T3W d Tc2q  Generasi ke-  12  Fitness: 8\n",
      "String:  FisAka T3W d Tc2q  Generasi ke-  13  Fitness: 8\n",
      "String:  Fis9Va UOpa0 H#2W  Generasi ke-  14  Fitness: 7\n",
      "String:  Fis9Va UOpa0 H#2W  Generasi ke-  15  Fitness: 7\n",
      "String:  Fis9Va UOpa0 H#2W  Generasi ke-  16  Fitness: 7\n",
      "String:  0i=ikH unpag 202,  Generasi ke-  17  Fitness: 6\n",
      "String:  0i=ikH unpag 202,  Generasi ke-  18  Fitness: 6\n",
      "String:  0i=ikH unpag 202,  Generasi ke-  19  Fitness: 6\n",
      "String:  0i=ikH unpag 202,  Generasi ke-  20  Fitness: 6\n",
      "String:  Fis ka UnpaA H?2&  Generasi ke-  21  Fitness: 5\n",
      "String:  Fis ka UnpaA H?2&  Generasi ke-  22  Fitness: 5\n",
      "String:  Fis ka UnpaA H?2&  Generasi ke-  23  Fitness: 5\n",
      "String:  Fis ka UnPad 2,2,  Generasi ke-  24  Fitness: 4\n",
      "String:  Fis ka UnPad 2,2,  Generasi ke-  25  Fitness: 4\n",
      "String:  Fis ka UnPad 2,2,  Generasi ke-  26  Fitness: 4\n",
      "String:  Fis ka UnPad 2,2,  Generasi ke-  27  Fitness: 4\n",
      "String:  Fis ka UnPad 2,2,  Generasi ke-  28  Fitness: 4\n",
      "String:  Fis ka UnPad 2,2,  Generasi ke-  29  Fitness: 4\n",
      "String:  Fis ka UnPad 2,2,  Generasi ke-  30  Fitness: 4\n",
      "String:  Fis ka Unpad 20?Y  Generasi ke-  31  Fitness: 3\n",
      "String:  Fis ka Unpad 20?Y  Generasi ke-  32  Fitness: 3\n",
      "String:  Fis ka Unpad 20?Y  Generasi ke-  33  Fitness: 3\n",
      "String:  Fis ka Unpad 20?Y  Generasi ke-  34  Fitness: 3\n",
      "String:  Fis ka Unpad 20?Y  Generasi ke-  35  Fitness: 3\n",
      "String:  Fisika 1npaJ 2021  Generasi ke-  36  Fitness: 2\n",
      "String:  Fisika 1npaJ 2021  Generasi ke-  37  Fitness: 2\n",
      "String:  Fisika 1npaJ 2021  Generasi ke-  38  Fitness: 2\n",
      "String:  Fisika 1npaJ 2021  Generasi ke-  39  Fitness: 2\n",
      "String:  Fisika 1npaJ 2021  Generasi ke-  40  Fitness: 2\n",
      "String:  Fisika 1npaJ 2021  Generasi ke-  41  Fitness: 2\n",
      "String:  Fisika 1npaJ 2021  Generasi ke-  42  Fitness: 2\n",
      "String:  Fisika Unpad #021  Generasi ke-  43  Fitness: 1\n",
      "String:  Fisika Unpad #021  Generasi ke-  44  Fitness: 1\n",
      "String:  Fisika Unpad #021  Generasi ke-  45  Fitness: 1\n",
      "String:  Fisika Unpad #021  Generasi ke-  46  Fitness: 1\n",
      "String:  Fisika Unpad #021  Generasi ke-  47  Fitness: 1\n",
      "String:  Fisika Unpad #021  Generasi ke-  48  Fitness: 1\n",
      "String:  Fisika Unpad #021  Generasi ke-  49  Fitness: 1\n",
      "String:  Fisika Unpad #021  Generasi ke-  50  Fitness: 1\n",
      "String:  Fisika Unpad #021  Generasi ke-  51  Fitness: 1\n",
      "String:  Fisika Unpad #021  Generasi ke-  52  Fitness: 1\n",
      "String:  Fisika Unpad #021  Generasi ke-  53  Fitness: 1\n",
      "String:  Fisika Unpad 2021  Generasi ke-  54  Fitness: 0\n"
     ]
    }
   ],
   "source": [
    "p_awal = popul(target, j_popul)\n",
    "fit=1\n",
    "populasi = []\n",
    "generation = 1\n",
    "\n",
    "for i in range(len(p_awal)):\n",
    "    populasi.append(fitness_cal(target, p_awal[i]))\n",
    "\n",
    "while fit != 0:\n",
    "    selected = selection(populasi, target, j_popul)\n",
    "\n",
    "    populasi = sorted(populasi, key= lambda x:x[1])\n",
    "    crossovered = crossover(selected, len(target), populasi)\n",
    "\n",
    "    mutated = mutate(crossovered, M_rate)\n",
    "\n",
    "    new_gen = []\n",
    "    \n",
    "    for i in mutated:\n",
    "        new_gen.append(fitness_cal(target, i))\n",
    "    populasi = replace(new_gen, populasi)\n",
    "    fit=populasi[0][1]\n",
    "    generation+=1\n",
    "    kata=str('')\n",
    "    for i in populasi[0][0]:\n",
    "        kata+=i\n",
    "    print('String: ', str(kata), ' Generasi ke- ',str(generation), ' Fitness: ' + str(populasi[0][1]))"
   ]
  }
 ],
 "metadata": {
  "kernelspec": {
   "display_name": "Python 3",
   "language": "python",
   "name": "python3"
  },
  "language_info": {
   "codemirror_mode": {
    "name": "ipython",
    "version": 3
   },
   "file_extension": ".py",
   "mimetype": "text/x-python",
   "name": "python",
   "nbconvert_exporter": "python",
   "pygments_lexer": "ipython3",
   "version": "3.11.5"
  }
 },
 "nbformat": 4,
 "nbformat_minor": 2
}
